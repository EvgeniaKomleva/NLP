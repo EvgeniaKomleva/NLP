{
 "cells": [
  {
   "cell_type": "markdown",
   "metadata": {},
   "source": [
    "Загружаем и предобрабатываем данные"
   ]
  },
  {
   "cell_type": "code",
   "execution_count": 1,
   "metadata": {},
   "outputs": [
    {
     "data": {
      "text/html": [
       "<div>\n",
       "<style scoped>\n",
       "    .dataframe tbody tr th:only-of-type {\n",
       "        vertical-align: middle;\n",
       "    }\n",
       "\n",
       "    .dataframe tbody tr th {\n",
       "        vertical-align: top;\n",
       "    }\n",
       "\n",
       "    .dataframe thead th {\n",
       "        text-align: right;\n",
       "    }\n",
       "</style>\n",
       "<table border=\"1\" class=\"dataframe\">\n",
       "  <thead>\n",
       "    <tr style=\"text-align: right;\">\n",
       "      <th></th>\n",
       "      <th>ID</th>\n",
       "      <th>label</th>\n",
       "      <th>text</th>\n",
       "    </tr>\n",
       "  </thead>\n",
       "  <tbody>\n",
       "    <tr>\n",
       "      <th>0</th>\n",
       "      <td>307</td>\n",
       "      <td>Non-depression</td>\n",
       "      <td>С детства я люблю футбол. Самые теплые воспоми...</td>\n",
       "    </tr>\n",
       "    <tr>\n",
       "      <th>1</th>\n",
       "      <td>243</td>\n",
       "      <td>Non-depression</td>\n",
       "      <td>Каждому человеку нужен мир. Мир- это весь земн...</td>\n",
       "    </tr>\n",
       "    <tr>\n",
       "      <th>2</th>\n",
       "      <td>73</td>\n",
       "      <td>Non-depression</td>\n",
       "      <td>Я, другие и мир. Да, именно в таком порядке ме...</td>\n",
       "    </tr>\n",
       "    <tr>\n",
       "      <th>3</th>\n",
       "      <td>301</td>\n",
       "      <td>Non-depression</td>\n",
       "      <td>Позиционирование себя как полноценного человек...</td>\n",
       "    </tr>\n",
       "    <tr>\n",
       "      <th>4</th>\n",
       "      <td>60</td>\n",
       "      <td>Non-depression</td>\n",
       "      <td>Я, другие и мир. Такая неопределенная тема. Мы...</td>\n",
       "    </tr>\n",
       "  </tbody>\n",
       "</table>\n",
       "</div>"
      ],
      "text/plain": [
       "    ID           label                                               text\n",
       "0  307  Non-depression  С детства я люблю футбол. Самые теплые воспоми...\n",
       "1  243  Non-depression  Каждому человеку нужен мир. Мир- это весь земн...\n",
       "2   73  Non-depression  Я, другие и мир. Да, именно в таком порядке ме...\n",
       "3  301  Non-depression  Позиционирование себя как полноценного человек...\n",
       "4   60  Non-depression  Я, другие и мир. Такая неопределенная тема. Мы..."
      ]
     },
     "execution_count": 1,
     "metadata": {},
     "output_type": "execute_result"
    }
   ],
   "source": [
    "import pandas as pd\n",
    "\n",
    "data = pd.read_csv('PsyHack_RUDN_train.csv', sep='\\t')\n",
    "data.head()"
   ]
  },
  {
   "cell_type": "markdown",
   "metadata": {},
   "source": [
    "Очищаем текст\n",
    "\n",
    "Чтобы анализ текста был наиболее точен нужно удалить слова, не влияющие на смысл текста: предолги, союзы, собственные имена, другие служебные части речи и знаки пунктуации"
   ]
  },
  {
   "cell_type": "code",
   "execution_count": 2,
   "metadata": {},
   "outputs": [],
   "source": [
    "import pymorphy2, re"
   ]
  },
  {
   "cell_type": "code",
   "execution_count": 3,
   "metadata": {},
   "outputs": [],
   "source": [
    "morph = pymorphy2.MorphAnalyzer()"
   ]
  },
  {
   "cell_type": "code",
   "execution_count": 4,
   "metadata": {},
   "outputs": [],
   "source": [
    "def clean_text(text):\n",
    "    new_text = ''\n",
    "    grams_exclusion = {'PREP', 'CONJ', 'INTJ', 'Name', 'Surn', 'Patr', 'Orgn', 'Trad'}\n",
    "    text = re.sub('[^а-яА-Яa-zA-ZёЁ]', ' ', text)\n",
    "\n",
    "    words = text.split()\n",
    "    for word in words:\n",
    "        p = morph.parse(word)[0]\n",
    "        if not any(tag in p.tag for tag in grams_exclusion):\n",
    "            new_text += ' ' + p.normal_form\n",
    "    new_text = new_text[1:]\n",
    "    return new_text"
   ]
  },
  {
   "cell_type": "code",
   "execution_count": 5,
   "metadata": {},
   "outputs": [],
   "source": [
    "data['text_lem'] = data['text'].apply(lambda x: clean_text(x))"
   ]
  },
  {
   "cell_type": "code",
   "execution_count": 6,
   "metadata": {},
   "outputs": [
    {
     "data": {
      "text/html": [
       "<div>\n",
       "<style scoped>\n",
       "    .dataframe tbody tr th:only-of-type {\n",
       "        vertical-align: middle;\n",
       "    }\n",
       "\n",
       "    .dataframe tbody tr th {\n",
       "        vertical-align: top;\n",
       "    }\n",
       "\n",
       "    .dataframe thead th {\n",
       "        text-align: right;\n",
       "    }\n",
       "</style>\n",
       "<table border=\"1\" class=\"dataframe\">\n",
       "  <thead>\n",
       "    <tr style=\"text-align: right;\">\n",
       "      <th></th>\n",
       "      <th>ID</th>\n",
       "      <th>label</th>\n",
       "      <th>text</th>\n",
       "      <th>text_lem</th>\n",
       "    </tr>\n",
       "  </thead>\n",
       "  <tbody>\n",
       "    <tr>\n",
       "      <th>0</th>\n",
       "      <td>307</td>\n",
       "      <td>Non-depression</td>\n",
       "      <td>С детства я люблю футбол. Самые теплые воспоми...</td>\n",
       "      <td>детство я любить футбол самый тёплый воспомина...</td>\n",
       "    </tr>\n",
       "    <tr>\n",
       "      <th>1</th>\n",
       "      <td>243</td>\n",
       "      <td>Non-depression</td>\n",
       "      <td>Каждому человеку нужен мир. Мир- это весь земн...</td>\n",
       "      <td>каждый человек нужный мир мир это весь земной ...</td>\n",
       "    </tr>\n",
       "    <tr>\n",
       "      <th>2</th>\n",
       "      <td>73</td>\n",
       "      <td>Non-depression</td>\n",
       "      <td>Я, другие и мир. Да, именно в таком порядке ме...</td>\n",
       "      <td>я другой мир да именно такой порядок я устраив...</td>\n",
       "    </tr>\n",
       "    <tr>\n",
       "      <th>3</th>\n",
       "      <td>301</td>\n",
       "      <td>Non-depression</td>\n",
       "      <td>Позиционирование себя как полноценного человек...</td>\n",
       "      <td>позиционирование себя полноценный человек восп...</td>\n",
       "    </tr>\n",
       "    <tr>\n",
       "      <th>4</th>\n",
       "      <td>60</td>\n",
       "      <td>Non-depression</td>\n",
       "      <td>Я, другие и мир. Такая неопределенная тема. Мы...</td>\n",
       "      <td>я другой мир такой неопределённый тема мысль с...</td>\n",
       "    </tr>\n",
       "  </tbody>\n",
       "</table>\n",
       "</div>"
      ],
      "text/plain": [
       "    ID           label                                               text  \\\n",
       "0  307  Non-depression  С детства я люблю футбол. Самые теплые воспоми...   \n",
       "1  243  Non-depression  Каждому человеку нужен мир. Мир- это весь земн...   \n",
       "2   73  Non-depression  Я, другие и мир. Да, именно в таком порядке ме...   \n",
       "3  301  Non-depression  Позиционирование себя как полноценного человек...   \n",
       "4   60  Non-depression  Я, другие и мир. Такая неопределенная тема. Мы...   \n",
       "\n",
       "                                            text_lem  \n",
       "0  детство я любить футбол самый тёплый воспомина...  \n",
       "1  каждый человек нужный мир мир это весь земной ...  \n",
       "2  я другой мир да именно такой порядок я устраив...  \n",
       "3  позиционирование себя полноценный человек восп...  \n",
       "4  я другой мир такой неопределённый тема мысль с...  "
      ]
     },
     "execution_count": 6,
     "metadata": {},
     "output_type": "execute_result"
    }
   ],
   "source": [
    "data.head()"
   ]
  },
  {
   "cell_type": "markdown",
   "metadata": {},
   "source": [
    "Так как мы хотим уловить общий смысл эссе можно воспользоваться метрикой TF-IDF, которая будет сопоставлять каждому слову его коэффициент смысловой значимости. Значимость оценивается количеством встечаемости слова в документе, но так же нужно учесть размер документов, так как в больших документов большая вероятность встретить какое нибудь слово несколько раз."
   ]
  },
  {
   "cell_type": "code",
   "execution_count": 7,
   "metadata": {},
   "outputs": [
    {
     "data": {
      "text/plain": [
       "TfidfVectorizer(analyzer='word', binary=False, decode_error='strict',\n",
       "                dtype=<class 'numpy.float64'>, encoding='cp1251',\n",
       "                input='content', lowercase=True, max_df=0.2, max_features=None,\n",
       "                min_df=2, ngram_range=(1, 2), norm='l2', preprocessor=None,\n",
       "                smooth_idf=True, stop_words=None, strip_accents=None,\n",
       "                sublinear_tf=False, token_pattern='(?u)\\\\b\\\\w\\\\w+\\\\b',\n",
       "                tokenizer=None, use_idf=True, vocabulary=None)"
      ]
     },
     "execution_count": 7,
     "metadata": {},
     "output_type": "execute_result"
    }
   ],
   "source": [
    "from sklearn.feature_extraction.text import TfidfVectorizer\n",
    "\n",
    "vec = TfidfVectorizer(ngram_range=(1,2), lowercase=True, min_df=2, max_df=0.2, encoding='cp1251')\n",
    "vec.fit(data['text_lem'])"
   ]
  },
  {
   "cell_type": "code",
   "execution_count": 8,
   "metadata": {},
   "outputs": [],
   "source": [
    "from sklearn.preprocessing import LabelEncoder\n",
    "\n",
    "X = vec.transform(data['text_lem'])\n",
    "lenc = LabelEncoder()\n",
    "y = lenc.fit_transform(data['label'])"
   ]
  },
  {
   "cell_type": "code",
   "execution_count": 22,
   "metadata": {},
   "outputs": [],
   "source": [
    "import numpy as np\n",
    "\n",
    "alphas = np.logspace(-12, -7, 80)"
   ]
  },
  {
   "cell_type": "markdown",
   "metadata": {},
   "source": [
    "Строим классификатор "
   ]
  },
  {
   "cell_type": "code",
   "execution_count": 10,
   "metadata": {},
   "outputs": [],
   "source": [
    "from sklearn.model_selection import validation_curve\n",
    "from sklearn.linear_model import SGDClassifier\n",
    "from sklearn.pipeline import Pipeline\n",
    "\n",
    "sgd_logit = SGDClassifier(loss='modified_huber', random_state=1, n_jobs=-1, max_iter=2000)\n",
    "logit_pipe = Pipeline([('sgd_logit', sgd_logit)])"
   ]
  },
  {
   "cell_type": "code",
   "execution_count": 11,
   "metadata": {},
   "outputs": [],
   "source": [
    "val_train, val_test = validation_curve(logit_pipe, X, y, 'sgd_logit__alpha', alphas, cv=4, scoring='f1_micro')"
   ]
  },
  {
   "cell_type": "code",
   "execution_count": 12,
   "metadata": {},
   "outputs": [],
   "source": [
    "best_alpha = alphas[val_test.mean(1).argmax()]"
   ]
  },
  {
   "cell_type": "code",
   "execution_count": 13,
   "metadata": {},
   "outputs": [],
   "source": [
    "from matplotlib import pyplot as plt\n",
    "\n",
    "def plot_with_err(x, data, **kwargs):\n",
    "    mu, std = data.mean(1), data.std(1)\n",
    "    lines = plt.plot(x, mu, '-', **kwargs)\n",
    "    plt.fill_between(x, mu - std, mu + std, edgecolor='none',\n",
    "    facecolor=lines[0].get_color(), alpha=0.2)"
   ]
  },
  {
   "cell_type": "markdown",
   "metadata": {},
   "source": [
    "Обучаем модель"
   ]
  },
  {
   "cell_type": "code",
   "execution_count": 14,
   "metadata": {},
   "outputs": [],
   "source": [
    "from sklearn.model_selection import train_test_split"
   ]
  },
  {
   "cell_type": "code",
   "execution_count": 15,
   "metadata": {},
   "outputs": [],
   "source": [
    "X_train, X_holdout, y_train, y_holdout = train_test_split(X, y, test_size=0.3, random_state=1)"
   ]
  },
  {
   "cell_type": "code",
   "execution_count": 16,
   "metadata": {},
   "outputs": [],
   "source": [
    "model = SGDClassifier(loss='modified_huber', random_state=1, n_jobs=-1,\n",
    "                          alpha=best_alpha, verbose=False).fit(X_train, y_train)"
   ]
  },
  {
   "cell_type": "code",
   "execution_count": 17,
   "metadata": {},
   "outputs": [
    {
     "name": "stdout",
     "output_type": "stream",
     "text": [
      "Accuracy - 77.6%\n",
      "                precision    recall  f1-score   support\n",
      "\n",
      "    Depression       0.83      0.43      0.57        23\n",
      "Non-depression       0.76      0.95      0.85        44\n",
      "\n",
      "      accuracy                           0.78        67\n",
      "     macro avg       0.80      0.69      0.71        67\n",
      "  weighted avg       0.79      0.78      0.75        67\n",
      "\n"
     ]
    }
   ],
   "source": [
    "from sklearn.metrics import accuracy_score\n",
    "from sklearn.metrics import classification_report\n",
    "\n",
    "y_pred = model.predict(X_holdout)\n",
    "print('Accuracy - {0:.1%}'.format(accuracy_score(y_holdout, y_pred)))\n",
    "print(classification_report(y_holdout, y_pred, target_names=lenc.classes_))"
   ]
  },
  {
   "cell_type": "markdown",
   "metadata": {},
   "source": [
    "Используем bag-of-words в качестве признаков."
   ]
  },
  {
   "cell_type": "code",
   "execution_count": 18,
   "metadata": {},
   "outputs": [],
   "source": [
    "from sklearn.feature_extraction.text import CountVectorizer\n",
    "\n",
    "vectorizer = CountVectorizer()\n",
    "X = vectorizer.fit_transform(data['text_lem']).toarray()\n",
    "y = data['label'] == 'Depression'"
   ]
  },
  {
   "cell_type": "markdown",
   "metadata": {},
   "source": [
    "Будем обучать два простых алгоритма: <a href='http://www.machinelearning.ru/wiki/index.php?title=%D0%9C%D0%B5%D1%82%D0%BE%D0%B4_%D0%BE%D0%BF%D0%BE%D1%80%D0%BD%D1%8B%D1%85_%D0%B2%D0%B5%D0%BA%D1%82%D0%BE%D1%80%D0%BE%D0%B2'>SVM</a> и <a href='https://towardsdatascience.com/the-random-forest-algorithm-d457d499ffcd'>Random Forest</a>."
   ]
  },
  {
   "cell_type": "code",
   "execution_count": 19,
   "metadata": {},
   "outputs": [],
   "source": [
    "from sklearn.metrics import make_scorer\n",
    "from sklearn.metrics import roc_auc_score\n",
    "\n",
    "RANDOM_STATE = 1337\n",
    "\n",
    "rf_parameters = {\n",
    "    'n_estimators': (10, 100),\n",
    "    'max_features': ('sqrt', 'log2', None),\n",
    "    'max_depth': (None, 3, 10),\n",
    "    'min_samples_split': (2, 5),\n",
    "    'min_samples_leaf': (1, 3)\n",
    "}\n",
    "\n",
    "svm_parameters = {\n",
    "    'C': (0.01, 0.1, 1, 10),\n",
    "}\n",
    "\n",
    "grid_parameters = {\n",
    "    'scoring': make_scorer(roc_auc_score),\n",
    "    'n_jobs': -1,\n",
    "    'cv': 3,\n",
    "    'iid': True,\n",
    "    'return_train_score': True\n",
    "}"
   ]
  },
  {
   "cell_type": "markdown",
   "metadata": {},
   "source": [
    "Инициализируем модели и сетки для подбора параметров"
   ]
  },
  {
   "cell_type": "code",
   "execution_count": 20,
   "metadata": {},
   "outputs": [],
   "source": [
    "from sklearn.ensemble import RandomForestClassifier\n",
    "from sklearn.svm import SVC\n",
    "from sklearn.model_selection import GridSearchCV\n",
    "\n",
    "\n",
    "rf = RandomForestClassifier(n_jobs=-1, random_state=RANDOM_STATE)\n",
    "svm = SVC(random_state=RANDOM_STATE, probability=True)\n",
    "\n",
    "grid_rf = GridSearchCV(\n",
    "    estimator=rf,\n",
    "    param_grid=rf_parameters,\n",
    "    scoring=make_scorer(roc_auc_score),\n",
    "    n_jobs=-1,\n",
    "    cv=3,\n",
    "    iid=True,\n",
    "    return_train_score=True\n",
    ")\n",
    "\n",
    "grid_svm = GridSearchCV(\n",
    "    estimator=svm,\n",
    "    param_grid=svm_parameters,\n",
    "    scoring=make_scorer(roc_auc_score),\n",
    "    n_jobs=-1,\n",
    "    cv=3,\n",
    "    iid=True,\n",
    "    return_train_score=True\n",
    ")"
   ]
  },
  {
   "cell_type": "markdown",
   "metadata": {},
   "source": [
    "Обучаем модели и оцениваем точность"
   ]
  },
  {
   "cell_type": "code",
   "execution_count": 21,
   "metadata": {},
   "outputs": [
    {
     "name": "stderr",
     "output_type": "stream",
     "text": [
      "C:\\ProgramData\\Anaconda3\\lib\\site-packages\\sklearn\\model_selection\\_search.py:823: FutureWarning: The parameter 'iid' is deprecated in 0.22 and will be removed in 0.24.\n",
      "  \"removed in 0.24.\", FutureWarning\n",
      "C:\\ProgramData\\Anaconda3\\lib\\site-packages\\sklearn\\model_selection\\_search.py:823: FutureWarning: The parameter 'iid' is deprecated in 0.22 and will be removed in 0.24.\n",
      "  \"removed in 0.24.\", FutureWarning\n"
     ]
    },
    {
     "name": "stdout",
     "output_type": "stream",
     "text": [
      "Random Forest ROC AUC score:  0.6622608907356624\n",
      "SVM ROC AUC score:  0.6890056178773843\n"
     ]
    }
   ],
   "source": [
    "grid_rf.fit(X, y)\n",
    "grid_svm.fit(X, y)\n",
    "\n",
    "print('Random Forest ROC AUC score: ', grid_rf.best_score_)\n",
    "print('SVM ROC AUC score: ', grid_svm.best_score_)"
   ]
  },
  {
   "cell_type": "code",
   "execution_count": null,
   "metadata": {},
   "outputs": [],
   "source": []
  },
  {
   "cell_type": "code",
   "execution_count": null,
   "metadata": {},
   "outputs": [],
   "source": []
  }
 ],
 "metadata": {
  "kernelspec": {
   "display_name": "Python 3",
   "language": "python",
   "name": "python3"
  },
  "language_info": {
   "codemirror_mode": {
    "name": "ipython",
    "version": 3
   },
   "file_extension": ".py",
   "mimetype": "text/x-python",
   "name": "python",
   "nbconvert_exporter": "python",
   "pygments_lexer": "ipython3",
   "version": "3.7.7"
  },
  "toc": {
   "base_numbering": 1,
   "nav_menu": {},
   "number_sections": true,
   "sideBar": true,
   "skip_h1_title": false,
   "title_cell": "Table of Contents",
   "title_sidebar": "Contents",
   "toc_cell": false,
   "toc_position": {},
   "toc_section_display": true,
   "toc_window_display": false
  }
 },
 "nbformat": 4,
 "nbformat_minor": 2
}
