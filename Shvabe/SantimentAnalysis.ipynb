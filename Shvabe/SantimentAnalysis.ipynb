{
  "nbformat": 4,
  "nbformat_minor": 0,
  "metadata": {
    "kernelspec": {
      "display_name": "Python 3",
      "language": "python",
      "name": "python3"
    },
    "language_info": {
      "codemirror_mode": {
        "name": "ipython",
        "version": 3
      },
      "file_extension": ".py",
      "mimetype": "text/x-python",
      "name": "python",
      "nbconvert_exporter": "python",
      "pygments_lexer": "ipython3",
      "version": "3.7.7"
    },
    "colab": {
      "name": "SantimentAnalysis.ipynb",
      "provenance": []
    }
  },
  "cells": [
    {
      "cell_type": "code",
      "metadata": {
        "_cell_guid": "b1076dfc-b9ad-4769-8c92-a6c4dae69d19",
        "_uuid": "8f2839f25d086af736a60e9eeb907d3b93b6e0e5",
        "id": "8uOj8D0dJsOV",
        "colab_type": "code",
        "colab": {}
      },
      "source": [
        "import os\n",
        "\n",
        "import numpy as np\n",
        "\n",
        "# For DataFrame object\n",
        "import pandas as pd\n",
        "\n",
        "# Neural Network\n",
        "from keras.models import Sequential\n",
        "from keras.layers import Dense, Dropout\n",
        "from keras.optimizers import RMSprop\n",
        "\n",
        "# Text Vectorizing\n",
        "from keras.preprocessing.text import Tokenizer, text_to_word_sequence\n",
        "\n",
        "# Train-test-split\n",
        "from sklearn.model_selection import train_test_split\n",
        "%matplotlib inline\n",
        "import matplotlib.pyplot as plt\n",
        "from sklearn.preprocessing import normalize\n"
      ],
      "execution_count": null,
      "outputs": []
    },
    {
      "cell_type": "code",
      "metadata": {
        "_cell_guid": "79c7e3d0-c299-4dcb-8224-4455121ee9b0",
        "_uuid": "d629ff2d2480ee46fbb7e2d37f6b5fab8052498a",
        "id": "lDHu3EAHJsOa",
        "colab_type": "code",
        "colab": {
          "base_uri": "https://localhost:8080/",
          "height": 195
        },
        "outputId": "e9ac5a08-f5a7-4aa4-cdae-b7ae62373018"
      },
      "source": [
        "df = pd.read_csv('test.csv')\n",
        "df.head()"
      ],
      "execution_count": null,
      "outputs": [
        {
          "output_type": "execute_result",
          "data": {
            "text/html": [
              "<div>\n",
              "<style scoped>\n",
              "    .dataframe tbody tr th:only-of-type {\n",
              "        vertical-align: middle;\n",
              "    }\n",
              "\n",
              "    .dataframe tbody tr th {\n",
              "        vertical-align: top;\n",
              "    }\n",
              "\n",
              "    .dataframe thead th {\n",
              "        text-align: right;\n",
              "    }\n",
              "</style>\n",
              "<table border=\"1\" class=\"dataframe\">\n",
              "  <thead>\n",
              "    <tr style=\"text-align: right;\">\n",
              "      <th></th>\n",
              "      <th>text</th>\n",
              "      <th>label</th>\n",
              "    </tr>\n",
              "  </thead>\n",
              "  <tbody>\n",
              "    <tr>\n",
              "      <th>0</th>\n",
              "      <td>в Новый год ОРХИДЕЯ пойдёт с чистой ПОП* о...</td>\n",
              "      <td>0</td>\n",
              "    </tr>\n",
              "    <tr>\n",
              "      <th>1</th>\n",
              "      <td>Какой у вас денежный сценарий Если у бизнесмен...</td>\n",
              "      <td>0</td>\n",
              "    </tr>\n",
              "    <tr>\n",
              "      <th>2</th>\n",
              "      <td>Москвича избили и порезали при попытке купить ...</td>\n",
              "      <td>-1</td>\n",
              "    </tr>\n",
              "    <tr>\n",
              "      <th>3</th>\n",
              "      <td>Свинина тушеная Йошкар-Олинский мясокомбинат `...</td>\n",
              "      <td>-1</td>\n",
              "    </tr>\n",
              "    <tr>\n",
              "      <th>4</th>\n",
              "      <td>id138736268|Анна тогда сделайте подарок себе с...</td>\n",
              "      <td>1</td>\n",
              "    </tr>\n",
              "  </tbody>\n",
              "</table>\n",
              "</div>"
            ],
            "text/plain": [
              "                                                text  label\n",
              "0  в Новый год ОРХИДЕЯ пойдёт с чистой ПОП* о...      0\n",
              "1  Какой у вас денежный сценарий Если у бизнесмен...      0\n",
              "2  Москвича избили и порезали при попытке купить ...     -1\n",
              "3  Свинина тушеная Йошкар-Олинский мясокомбинат `...     -1\n",
              "4  id138736268|Анна тогда сделайте подарок себе с...      1"
            ]
          },
          "metadata": {
            "tags": []
          },
          "execution_count": 43
        }
      ]
    },
    {
      "cell_type": "code",
      "metadata": {
        "id": "d3x7pDzKVGbp",
        "colab_type": "code",
        "colab": {
          "base_uri": "https://localhost:8080/",
          "height": 34
        },
        "outputId": "e138ef46-d5a5-412d-ebcb-95224a226b29"
      },
      "source": [
        "df.size"
      ],
      "execution_count": null,
      "outputs": [
        {
          "output_type": "execute_result",
          "data": {
            "text/plain": [
              "18772"
            ]
          },
          "metadata": {
            "tags": []
          },
          "execution_count": 44
        }
      ]
    },
    {
      "cell_type": "code",
      "metadata": {
        "id": "mhxUzWBFvvl0",
        "colab_type": "code",
        "colab": {}
      },
      "source": [
        "df = df.replace(0, 0.5)"
      ],
      "execution_count": null,
      "outputs": []
    },
    {
      "cell_type": "code",
      "metadata": {
        "id": "aW795yfDpsT7",
        "colab_type": "code",
        "colab": {}
      },
      "source": [
        "df = df.replace(-1, 0)"
      ],
      "execution_count": null,
      "outputs": []
    },
    {
      "cell_type": "code",
      "metadata": {
        "id": "N9IXekQxrByY",
        "colab_type": "code",
        "colab": {
          "base_uri": "https://localhost:8080/",
          "height": 34
        },
        "outputId": "9662fb26-caa8-4652-824d-572c95afb4d7"
      },
      "source": [
        "print(df.label[1])"
      ],
      "execution_count": null,
      "outputs": [
        {
          "output_type": "stream",
          "text": [
            "0.5\n"
          ],
          "name": "stdout"
        }
      ]
    },
    {
      "cell_type": "code",
      "metadata": {
        "id": "BEitwpxTYG5L",
        "colab_type": "code",
        "colab": {}
      },
      "source": [
        "df = df.dropna()"
      ],
      "execution_count": null,
      "outputs": []
    },
    {
      "cell_type": "code",
      "metadata": {
        "id": "X8o1GUUgJsOo",
        "colab_type": "code",
        "colab": {
          "base_uri": "https://localhost:8080/",
          "height": 34
        },
        "outputId": "9dadc122-bfc9-48f2-9960-a7aa0fe05442"
      },
      "source": [
        "target = np.array(df['label'].astype('uint8'))\n",
        "target[:5]"
      ],
      "execution_count": null,
      "outputs": [
        {
          "output_type": "execute_result",
          "data": {
            "text/plain": [
              "array([0, 0, 0, 0, 1], dtype=uint8)"
            ]
          },
          "metadata": {
            "tags": []
          },
          "execution_count": 48
        }
      ]
    },
    {
      "cell_type": "code",
      "metadata": {
        "id": "fg8qGJvfJsOr",
        "colab_type": "code",
        "colab": {}
      },
      "source": [
        "tokenizer = Tokenizer(num_words=30000, filters='!\"#$%&()*+,-./:;<=>?@[\\\\]^_`{|}~\\t\\n', \n",
        "                      lower=True, \n",
        "                      split=' ', \n",
        "                      char_level=False)"
      ],
      "execution_count": null,
      "outputs": []
    },
    {
      "cell_type": "code",
      "metadata": {
        "id": "ZjDT4vCoJsOu",
        "colab_type": "code",
        "colab": {
          "base_uri": "https://localhost:8080/",
          "height": 34
        },
        "outputId": "3184a51a-73e6-4e79-9b71-5e826038929d"
      },
      "source": [
        "tokenizer.fit_on_texts(df['text'])\n",
        "matrix = tokenizer.texts_to_matrix(df['text'], mode='count')\n",
        "matrix.shape"
      ],
      "execution_count": null,
      "outputs": [
        {
          "output_type": "execute_result",
          "data": {
            "text/plain": [
              "(9386, 30000)"
            ]
          },
          "metadata": {
            "tags": []
          },
          "execution_count": 50
        }
      ]
    },
    {
      "cell_type": "code",
      "metadata": {
        "id": "uL5RPwdgJsO0",
        "colab_type": "code",
        "colab": {}
      },
      "source": [
        "def get_model():\n",
        "    \n",
        "    model = Sequential()\n",
        "    \n",
        "    model.add(Dense(32, activation='relu'))\n",
        "    model.add(Dropout(0.3))\n",
        "    model.add(Dense(16, activation='relu'))\n",
        "    model.add(Dropout(0.3))\n",
        "    model.add(Dense(16, activation='relu'))\n",
        "    model.add(Dense(1, activation='sigmoid'))\n",
        "    \n",
        "    model.compile(optimizer='adam', \n",
        "                  loss='mse',\n",
        "                  metrics=['accuracy'])\n",
        "    \n",
        "    return model"
      ],
      "execution_count": null,
      "outputs": []
    },
    {
      "cell_type": "code",
      "metadata": {
        "id": "djYjmQW-JsO2",
        "colab_type": "code",
        "colab": {
          "base_uri": "https://localhost:8080/",
          "height": 34
        },
        "outputId": "b42a1e57-9035-4153-b527-f79da2a22705"
      },
      "source": [
        "X = normalize(matrix)\n",
        "y = target\n",
        "\n",
        "X_train, X_test, y_train, y_test = train_test_split(X, \n",
        "                                                    y,\n",
        "                                                    test_size=0.2)\n",
        "\n",
        "X_train.shape, y_train.shape"
      ],
      "execution_count": null,
      "outputs": [
        {
          "output_type": "execute_result",
          "data": {
            "text/plain": [
              "((7508, 30000), (7508,))"
            ]
          },
          "metadata": {
            "tags": []
          },
          "execution_count": 55
        }
      ]
    },
    {
      "cell_type": "code",
      "metadata": {
        "id": "8BtqxT9LJsO4",
        "colab_type": "code",
        "colab": {
          "base_uri": "https://localhost:8080/",
          "height": 1000
        },
        "outputId": "f0a8e974-11f9-4eb7-e788-bcf59800858d"
      },
      "source": [
        "model = get_model()\n",
        "\n",
        "history = model.fit(X_train, \n",
        "                    y_train, \n",
        "                    epochs=150, \n",
        "                    batch_size=500,\n",
        "                    validation_data=(X_test, y_test))\n",
        "\n",
        "history"
      ],
      "execution_count": null,
      "outputs": [
        {
          "output_type": "stream",
          "text": [
            "Train on 7508 samples, validate on 1878 samples\n",
            "Epoch 1/150\n",
            "7508/7508 [==============================] - 3s 372us/step - loss: 0.2420 - accuracy: 0.6747 - val_loss: 0.2310 - val_accuracy: 0.6672\n",
            "Epoch 2/150\n",
            "7508/7508 [==============================] - 3s 335us/step - loss: 0.2215 - accuracy: 0.6770 - val_loss: 0.2149 - val_accuracy: 0.6672\n",
            "Epoch 3/150\n",
            "7508/7508 [==============================] - 3s 334us/step - loss: 0.2067 - accuracy: 0.6770 - val_loss: 0.2048 - val_accuracy: 0.6672\n",
            "Epoch 4/150\n",
            "7508/7508 [==============================] - 3s 336us/step - loss: 0.1909 - accuracy: 0.6770 - val_loss: 0.1916 - val_accuracy: 0.6672\n",
            "Epoch 5/150\n",
            "7508/7508 [==============================] - 3s 335us/step - loss: 0.1739 - accuracy: 0.6770 - val_loss: 0.1807 - val_accuracy: 0.6672\n",
            "Epoch 6/150\n",
            "7508/7508 [==============================] - 3s 338us/step - loss: 0.1546 - accuracy: 0.6770 - val_loss: 0.1710 - val_accuracy: 0.6672\n",
            "Epoch 7/150\n",
            "7508/7508 [==============================] - 3s 333us/step - loss: 0.1365 - accuracy: 0.7413 - val_loss: 0.1673 - val_accuracy: 0.7657\n",
            "Epoch 8/150\n",
            "7508/7508 [==============================] - 2s 332us/step - loss: 0.1225 - accuracy: 0.8499 - val_loss: 0.1660 - val_accuracy: 0.7769\n",
            "Epoch 9/150\n",
            "7508/7508 [==============================] - 3s 333us/step - loss: 0.1083 - accuracy: 0.9098 - val_loss: 0.1671 - val_accuracy: 0.7790\n",
            "Epoch 10/150\n",
            "7508/7508 [==============================] - 3s 335us/step - loss: 0.0970 - accuracy: 0.9266 - val_loss: 0.1635 - val_accuracy: 0.7801\n",
            "Epoch 11/150\n",
            "7508/7508 [==============================] - 3s 333us/step - loss: 0.0870 - accuracy: 0.9485 - val_loss: 0.1629 - val_accuracy: 0.7785\n",
            "Epoch 12/150\n",
            "7508/7508 [==============================] - 2s 332us/step - loss: 0.0786 - accuracy: 0.9660 - val_loss: 0.1666 - val_accuracy: 0.7790\n",
            "Epoch 13/150\n",
            "7508/7508 [==============================] - 3s 336us/step - loss: 0.0685 - accuracy: 0.9731 - val_loss: 0.1656 - val_accuracy: 0.7796\n",
            "Epoch 14/150\n",
            "7508/7508 [==============================] - 3s 335us/step - loss: 0.0591 - accuracy: 0.9762 - val_loss: 0.1595 - val_accuracy: 0.7764\n",
            "Epoch 15/150\n",
            "7508/7508 [==============================] - 2s 332us/step - loss: 0.0504 - accuracy: 0.9775 - val_loss: 0.1604 - val_accuracy: 0.7796\n",
            "Epoch 16/150\n",
            "7508/7508 [==============================] - 3s 338us/step - loss: 0.0407 - accuracy: 0.9834 - val_loss: 0.1625 - val_accuracy: 0.7774\n",
            "Epoch 17/150\n",
            "7508/7508 [==============================] - 3s 335us/step - loss: 0.0331 - accuracy: 0.9839 - val_loss: 0.1626 - val_accuracy: 0.7753\n",
            "Epoch 18/150\n",
            "7508/7508 [==============================] - 3s 342us/step - loss: 0.0274 - accuracy: 0.9872 - val_loss: 0.1651 - val_accuracy: 0.7764\n",
            "Epoch 19/150\n",
            "7508/7508 [==============================] - 3s 342us/step - loss: 0.0236 - accuracy: 0.9865 - val_loss: 0.1668 - val_accuracy: 0.7796\n",
            "Epoch 20/150\n",
            "7508/7508 [==============================] - 3s 341us/step - loss: 0.0215 - accuracy: 0.9895 - val_loss: 0.1702 - val_accuracy: 0.7796\n",
            "Epoch 21/150\n",
            "7508/7508 [==============================] - 3s 336us/step - loss: 0.0195 - accuracy: 0.9889 - val_loss: 0.1716 - val_accuracy: 0.7758\n",
            "Epoch 22/150\n",
            "7508/7508 [==============================] - 3s 339us/step - loss: 0.0178 - accuracy: 0.9907 - val_loss: 0.1740 - val_accuracy: 0.7780\n",
            "Epoch 23/150\n",
            "7508/7508 [==============================] - 3s 335us/step - loss: 0.0175 - accuracy: 0.9901 - val_loss: 0.1757 - val_accuracy: 0.7737\n",
            "Epoch 24/150\n",
            "7508/7508 [==============================] - 3s 339us/step - loss: 0.0147 - accuracy: 0.9917 - val_loss: 0.1779 - val_accuracy: 0.7726\n",
            "Epoch 25/150\n",
            "7508/7508 [==============================] - 3s 336us/step - loss: 0.0142 - accuracy: 0.9913 - val_loss: 0.1804 - val_accuracy: 0.7748\n",
            "Epoch 26/150\n",
            "7508/7508 [==============================] - 3s 337us/step - loss: 0.0134 - accuracy: 0.9921 - val_loss: 0.1822 - val_accuracy: 0.7716\n",
            "Epoch 27/150\n",
            "7508/7508 [==============================] - 2s 333us/step - loss: 0.0126 - accuracy: 0.9925 - val_loss: 0.1841 - val_accuracy: 0.7710\n",
            "Epoch 28/150\n",
            "7508/7508 [==============================] - 3s 340us/step - loss: 0.0130 - accuracy: 0.9927 - val_loss: 0.1836 - val_accuracy: 0.7726\n",
            "Epoch 29/150\n",
            "7508/7508 [==============================] - 3s 335us/step - loss: 0.0120 - accuracy: 0.9927 - val_loss: 0.1842 - val_accuracy: 0.7742\n",
            "Epoch 30/150\n",
            "7508/7508 [==============================] - 3s 340us/step - loss: 0.0109 - accuracy: 0.9939 - val_loss: 0.1853 - val_accuracy: 0.7737\n",
            "Epoch 31/150\n",
            "7508/7508 [==============================] - 2s 333us/step - loss: 0.0103 - accuracy: 0.9943 - val_loss: 0.1866 - val_accuracy: 0.7710\n",
            "Epoch 32/150\n",
            "7508/7508 [==============================] - 3s 336us/step - loss: 0.0100 - accuracy: 0.9936 - val_loss: 0.1878 - val_accuracy: 0.7705\n",
            "Epoch 33/150\n",
            "7508/7508 [==============================] - 3s 335us/step - loss: 0.0083 - accuracy: 0.9947 - val_loss: 0.1899 - val_accuracy: 0.7710\n",
            "Epoch 34/150\n",
            "7508/7508 [==============================] - 3s 335us/step - loss: 0.0087 - accuracy: 0.9948 - val_loss: 0.1914 - val_accuracy: 0.7705\n",
            "Epoch 35/150\n",
            "7508/7508 [==============================] - 3s 337us/step - loss: 0.0077 - accuracy: 0.9955 - val_loss: 0.1921 - val_accuracy: 0.7721\n",
            "Epoch 36/150\n",
            "7508/7508 [==============================] - 3s 334us/step - loss: 0.0081 - accuracy: 0.9947 - val_loss: 0.1930 - val_accuracy: 0.7700\n",
            "Epoch 37/150\n",
            "7508/7508 [==============================] - 3s 334us/step - loss: 0.0075 - accuracy: 0.9949 - val_loss: 0.1943 - val_accuracy: 0.7694\n",
            "Epoch 38/150\n",
            "7508/7508 [==============================] - 3s 334us/step - loss: 0.0070 - accuracy: 0.9960 - val_loss: 0.1951 - val_accuracy: 0.7684\n",
            "Epoch 39/150\n",
            "7508/7508 [==============================] - 3s 338us/step - loss: 0.0070 - accuracy: 0.9952 - val_loss: 0.1967 - val_accuracy: 0.7668\n",
            "Epoch 40/150\n",
            "7508/7508 [==============================] - 2s 333us/step - loss: 0.0070 - accuracy: 0.9953 - val_loss: 0.1976 - val_accuracy: 0.7662\n",
            "Epoch 41/150\n",
            "7508/7508 [==============================] - 3s 336us/step - loss: 0.0063 - accuracy: 0.9956 - val_loss: 0.1984 - val_accuracy: 0.7662\n",
            "Epoch 42/150\n",
            "7508/7508 [==============================] - 2s 332us/step - loss: 0.0065 - accuracy: 0.9959 - val_loss: 0.2002 - val_accuracy: 0.7636\n",
            "Epoch 43/150\n",
            "7508/7508 [==============================] - 3s 338us/step - loss: 0.0059 - accuracy: 0.9964 - val_loss: 0.2009 - val_accuracy: 0.7630\n",
            "Epoch 44/150\n",
            "7508/7508 [==============================] - 3s 335us/step - loss: 0.0060 - accuracy: 0.9961 - val_loss: 0.2015 - val_accuracy: 0.7636\n",
            "Epoch 45/150\n",
            "7508/7508 [==============================] - 3s 339us/step - loss: 0.0055 - accuracy: 0.9964 - val_loss: 0.2007 - val_accuracy: 0.7652\n",
            "Epoch 46/150\n",
            "7508/7508 [==============================] - 3s 340us/step - loss: 0.0055 - accuracy: 0.9965 - val_loss: 0.2018 - val_accuracy: 0.7614\n",
            "Epoch 47/150\n",
            "7508/7508 [==============================] - 3s 342us/step - loss: 0.0057 - accuracy: 0.9961 - val_loss: 0.2032 - val_accuracy: 0.7636\n",
            "Epoch 48/150\n",
            "7508/7508 [==============================] - 3s 336us/step - loss: 0.0049 - accuracy: 0.9963 - val_loss: 0.2029 - val_accuracy: 0.7625\n",
            "Epoch 49/150\n",
            "7508/7508 [==============================] - 2s 333us/step - loss: 0.0053 - accuracy: 0.9960 - val_loss: 0.2030 - val_accuracy: 0.7620\n",
            "Epoch 50/150\n",
            "7508/7508 [==============================] - 2s 333us/step - loss: 0.0052 - accuracy: 0.9961 - val_loss: 0.2036 - val_accuracy: 0.7652\n",
            "Epoch 51/150\n",
            "7508/7508 [==============================] - 3s 338us/step - loss: 0.0046 - accuracy: 0.9968 - val_loss: 0.2034 - val_accuracy: 0.7668\n",
            "Epoch 52/150\n",
            "7508/7508 [==============================] - 3s 337us/step - loss: 0.0048 - accuracy: 0.9963 - val_loss: 0.2044 - val_accuracy: 0.7673\n",
            "Epoch 53/150\n",
            "7508/7508 [==============================] - 3s 333us/step - loss: 0.0047 - accuracy: 0.9965 - val_loss: 0.2045 - val_accuracy: 0.7652\n",
            "Epoch 54/150\n",
            "7508/7508 [==============================] - 2s 330us/step - loss: 0.0047 - accuracy: 0.9964 - val_loss: 0.2055 - val_accuracy: 0.7636\n",
            "Epoch 55/150\n",
            "7508/7508 [==============================] - 3s 336us/step - loss: 0.0047 - accuracy: 0.9964 - val_loss: 0.2054 - val_accuracy: 0.7625\n",
            "Epoch 56/150\n",
            "7508/7508 [==============================] - 3s 338us/step - loss: 0.0044 - accuracy: 0.9960 - val_loss: 0.2055 - val_accuracy: 0.7609\n",
            "Epoch 57/150\n",
            "7508/7508 [==============================] - 3s 342us/step - loss: 0.0040 - accuracy: 0.9973 - val_loss: 0.2068 - val_accuracy: 0.7646\n",
            "Epoch 58/150\n",
            "7508/7508 [==============================] - 3s 339us/step - loss: 0.0041 - accuracy: 0.9965 - val_loss: 0.2074 - val_accuracy: 0.7652\n",
            "Epoch 59/150\n",
            "7508/7508 [==============================] - 3s 342us/step - loss: 0.0037 - accuracy: 0.9973 - val_loss: 0.2074 - val_accuracy: 0.7620\n",
            "Epoch 60/150\n",
            "7508/7508 [==============================] - 3s 340us/step - loss: 0.0042 - accuracy: 0.9964 - val_loss: 0.2079 - val_accuracy: 0.7657\n",
            "Epoch 61/150\n",
            "7508/7508 [==============================] - 3s 336us/step - loss: 0.0037 - accuracy: 0.9971 - val_loss: 0.2077 - val_accuracy: 0.7652\n",
            "Epoch 62/150\n",
            "7508/7508 [==============================] - 3s 334us/step - loss: 0.0037 - accuracy: 0.9971 - val_loss: 0.2072 - val_accuracy: 0.7662\n",
            "Epoch 63/150\n",
            "7508/7508 [==============================] - 3s 335us/step - loss: 0.0036 - accuracy: 0.9973 - val_loss: 0.2072 - val_accuracy: 0.7668\n",
            "Epoch 64/150\n",
            "7508/7508 [==============================] - 3s 336us/step - loss: 0.0038 - accuracy: 0.9968 - val_loss: 0.2071 - val_accuracy: 0.7710\n",
            "Epoch 65/150\n",
            "7508/7508 [==============================] - 3s 336us/step - loss: 0.0036 - accuracy: 0.9968 - val_loss: 0.2073 - val_accuracy: 0.7673\n",
            "Epoch 66/150\n",
            "7508/7508 [==============================] - 3s 336us/step - loss: 0.0033 - accuracy: 0.9971 - val_loss: 0.2076 - val_accuracy: 0.7673\n",
            "Epoch 67/150\n",
            "7508/7508 [==============================] - 3s 344us/step - loss: 0.0035 - accuracy: 0.9967 - val_loss: 0.2082 - val_accuracy: 0.7646\n",
            "Epoch 68/150\n",
            "7508/7508 [==============================] - 3s 337us/step - loss: 0.0035 - accuracy: 0.9967 - val_loss: 0.2082 - val_accuracy: 0.7657\n",
            "Epoch 69/150\n",
            "7508/7508 [==============================] - 3s 339us/step - loss: 0.0031 - accuracy: 0.9976 - val_loss: 0.2092 - val_accuracy: 0.7657\n",
            "Epoch 70/150\n",
            "7508/7508 [==============================] - 2s 333us/step - loss: 0.0029 - accuracy: 0.9975 - val_loss: 0.2130 - val_accuracy: 0.7620\n",
            "Epoch 71/150\n",
            "7508/7508 [==============================] - 3s 340us/step - loss: 0.0034 - accuracy: 0.9969 - val_loss: 0.2107 - val_accuracy: 0.7652\n",
            "Epoch 72/150\n",
            "7508/7508 [==============================] - 2s 330us/step - loss: 0.0030 - accuracy: 0.9973 - val_loss: 0.2113 - val_accuracy: 0.7636\n",
            "Epoch 73/150\n",
            "7508/7508 [==============================] - 2s 331us/step - loss: 0.0032 - accuracy: 0.9973 - val_loss: 0.2129 - val_accuracy: 0.7657\n",
            "Epoch 74/150\n",
            "7508/7508 [==============================] - 2s 332us/step - loss: 0.0030 - accuracy: 0.9973 - val_loss: 0.2116 - val_accuracy: 0.7636\n",
            "Epoch 75/150\n",
            "7508/7508 [==============================] - 2s 333us/step - loss: 0.0030 - accuracy: 0.9973 - val_loss: 0.2123 - val_accuracy: 0.7652\n",
            "Epoch 76/150\n",
            "7508/7508 [==============================] - 2s 331us/step - loss: 0.0028 - accuracy: 0.9977 - val_loss: 0.2112 - val_accuracy: 0.7620\n",
            "Epoch 77/150\n",
            "7508/7508 [==============================] - 3s 333us/step - loss: 0.0030 - accuracy: 0.9977 - val_loss: 0.2134 - val_accuracy: 0.7609\n",
            "Epoch 78/150\n",
            "7508/7508 [==============================] - 3s 335us/step - loss: 0.0030 - accuracy: 0.9975 - val_loss: 0.2119 - val_accuracy: 0.7604\n",
            "Epoch 79/150\n",
            "7508/7508 [==============================] - 3s 336us/step - loss: 0.0030 - accuracy: 0.9971 - val_loss: 0.2113 - val_accuracy: 0.7657\n",
            "Epoch 80/150\n",
            "7508/7508 [==============================] - 2s 332us/step - loss: 0.0028 - accuracy: 0.9975 - val_loss: 0.2119 - val_accuracy: 0.7636\n",
            "Epoch 81/150\n",
            "7508/7508 [==============================] - 2s 332us/step - loss: 0.0028 - accuracy: 0.9975 - val_loss: 0.2129 - val_accuracy: 0.7636\n",
            "Epoch 82/150\n",
            "7508/7508 [==============================] - 2s 333us/step - loss: 0.0029 - accuracy: 0.9971 - val_loss: 0.2128 - val_accuracy: 0.7652\n",
            "Epoch 83/150\n",
            "7508/7508 [==============================] - 3s 335us/step - loss: 0.0025 - accuracy: 0.9980 - val_loss: 0.2136 - val_accuracy: 0.7641\n",
            "Epoch 84/150\n",
            "7508/7508 [==============================] - 2s 331us/step - loss: 0.0026 - accuracy: 0.9975 - val_loss: 0.2139 - val_accuracy: 0.7620\n",
            "Epoch 85/150\n",
            "7508/7508 [==============================] - 2s 330us/step - loss: 0.0027 - accuracy: 0.9976 - val_loss: 0.2140 - val_accuracy: 0.7625\n",
            "Epoch 86/150\n",
            "7508/7508 [==============================] - 2s 329us/step - loss: 0.0027 - accuracy: 0.9971 - val_loss: 0.2147 - val_accuracy: 0.7609\n",
            "Epoch 87/150\n",
            "7508/7508 [==============================] - 2s 332us/step - loss: 0.0023 - accuracy: 0.9979 - val_loss: 0.2157 - val_accuracy: 0.7599\n",
            "Epoch 88/150\n",
            "7508/7508 [==============================] - 3s 335us/step - loss: 0.0026 - accuracy: 0.9977 - val_loss: 0.2176 - val_accuracy: 0.7593\n",
            "Epoch 89/150\n",
            "7508/7508 [==============================] - 3s 335us/step - loss: 0.0028 - accuracy: 0.9969 - val_loss: 0.2179 - val_accuracy: 0.7588\n",
            "Epoch 90/150\n",
            "7508/7508 [==============================] - 3s 335us/step - loss: 0.0030 - accuracy: 0.9968 - val_loss: 0.2117 - val_accuracy: 0.7625\n",
            "Epoch 91/150\n",
            "7508/7508 [==============================] - 2s 331us/step - loss: 0.0025 - accuracy: 0.9977 - val_loss: 0.2151 - val_accuracy: 0.7577\n",
            "Epoch 92/150\n",
            "7508/7508 [==============================] - 2s 332us/step - loss: 0.0027 - accuracy: 0.9972 - val_loss: 0.2151 - val_accuracy: 0.7599\n",
            "Epoch 93/150\n",
            "7508/7508 [==============================] - 3s 334us/step - loss: 0.0027 - accuracy: 0.9971 - val_loss: 0.2153 - val_accuracy: 0.7614\n",
            "Epoch 94/150\n",
            "7508/7508 [==============================] - 3s 333us/step - loss: 0.0025 - accuracy: 0.9976 - val_loss: 0.2168 - val_accuracy: 0.7599\n",
            "Epoch 95/150\n",
            "7508/7508 [==============================] - 2s 331us/step - loss: 0.0024 - accuracy: 0.9977 - val_loss: 0.2161 - val_accuracy: 0.7583\n",
            "Epoch 96/150\n",
            "7508/7508 [==============================] - 3s 338us/step - loss: 0.0024 - accuracy: 0.9977 - val_loss: 0.2174 - val_accuracy: 0.7593\n",
            "Epoch 97/150\n",
            "7508/7508 [==============================] - 2s 331us/step - loss: 0.0024 - accuracy: 0.9980 - val_loss: 0.2150 - val_accuracy: 0.7625\n",
            "Epoch 98/150\n",
            "7508/7508 [==============================] - 2s 331us/step - loss: 0.0026 - accuracy: 0.9973 - val_loss: 0.2154 - val_accuracy: 0.7614\n",
            "Epoch 99/150\n",
            "7508/7508 [==============================] - 2s 329us/step - loss: 0.0026 - accuracy: 0.9973 - val_loss: 0.2167 - val_accuracy: 0.7593\n",
            "Epoch 100/150\n",
            "7508/7508 [==============================] - 3s 336us/step - loss: 0.0022 - accuracy: 0.9981 - val_loss: 0.2164 - val_accuracy: 0.7604\n",
            "Epoch 101/150\n",
            "7508/7508 [==============================] - 2s 330us/step - loss: 0.0026 - accuracy: 0.9976 - val_loss: 0.2162 - val_accuracy: 0.7609\n",
            "Epoch 102/150\n",
            "7508/7508 [==============================] - 2s 332us/step - loss: 0.0022 - accuracy: 0.9980 - val_loss: 0.2152 - val_accuracy: 0.7609\n",
            "Epoch 103/150\n",
            "7508/7508 [==============================] - 2s 331us/step - loss: 0.0023 - accuracy: 0.9979 - val_loss: 0.2167 - val_accuracy: 0.7593\n",
            "Epoch 104/150\n",
            "7508/7508 [==============================] - 3s 334us/step - loss: 0.0025 - accuracy: 0.9976 - val_loss: 0.2164 - val_accuracy: 0.7609\n",
            "Epoch 105/150\n",
            "7508/7508 [==============================] - 3s 337us/step - loss: 0.0021 - accuracy: 0.9981 - val_loss: 0.2146 - val_accuracy: 0.7614\n",
            "Epoch 106/150\n",
            "7508/7508 [==============================] - 2s 332us/step - loss: 0.0025 - accuracy: 0.9973 - val_loss: 0.2154 - val_accuracy: 0.7641\n",
            "Epoch 107/150\n",
            "7508/7508 [==============================] - 2s 329us/step - loss: 0.0022 - accuracy: 0.9976 - val_loss: 0.2167 - val_accuracy: 0.7620\n",
            "Epoch 108/150\n",
            "7508/7508 [==============================] - 3s 339us/step - loss: 0.0020 - accuracy: 0.9981 - val_loss: 0.2180 - val_accuracy: 0.7604\n",
            "Epoch 109/150\n",
            "7508/7508 [==============================] - 2s 330us/step - loss: 0.0020 - accuracy: 0.9981 - val_loss: 0.2165 - val_accuracy: 0.7625\n",
            "Epoch 110/150\n",
            "7508/7508 [==============================] - 2s 331us/step - loss: 0.0022 - accuracy: 0.9976 - val_loss: 0.2170 - val_accuracy: 0.7614\n",
            "Epoch 111/150\n",
            "7508/7508 [==============================] - 2s 332us/step - loss: 0.0025 - accuracy: 0.9973 - val_loss: 0.2159 - val_accuracy: 0.7630\n",
            "Epoch 112/150\n",
            "7508/7508 [==============================] - 3s 334us/step - loss: 0.0026 - accuracy: 0.9973 - val_loss: 0.2165 - val_accuracy: 0.7604\n",
            "Epoch 113/150\n",
            "7508/7508 [==============================] - 2s 329us/step - loss: 0.0021 - accuracy: 0.9977 - val_loss: 0.2156 - val_accuracy: 0.7609\n",
            "Epoch 114/150\n",
            "7508/7508 [==============================] - 2s 331us/step - loss: 0.0019 - accuracy: 0.9983 - val_loss: 0.2142 - val_accuracy: 0.7641\n",
            "Epoch 115/150\n",
            "7508/7508 [==============================] - 2s 328us/step - loss: 0.0024 - accuracy: 0.9976 - val_loss: 0.2138 - val_accuracy: 0.7636\n",
            "Epoch 116/150\n",
            "7508/7508 [==============================] - 2s 331us/step - loss: 0.0024 - accuracy: 0.9977 - val_loss: 0.2147 - val_accuracy: 0.7678\n",
            "Epoch 117/150\n",
            "7508/7508 [==============================] - 3s 336us/step - loss: 0.0021 - accuracy: 0.9983 - val_loss: 0.2144 - val_accuracy: 0.7678\n",
            "Epoch 118/150\n",
            "7508/7508 [==============================] - 2s 331us/step - loss: 0.0022 - accuracy: 0.9977 - val_loss: 0.2148 - val_accuracy: 0.7678\n",
            "Epoch 119/150\n",
            "7508/7508 [==============================] - 2s 332us/step - loss: 0.0017 - accuracy: 0.9981 - val_loss: 0.2142 - val_accuracy: 0.7662\n",
            "Epoch 120/150\n",
            "7508/7508 [==============================] - 2s 332us/step - loss: 0.0019 - accuracy: 0.9980 - val_loss: 0.2140 - val_accuracy: 0.7662\n",
            "Epoch 121/150\n",
            "7508/7508 [==============================] - 3s 333us/step - loss: 0.0021 - accuracy: 0.9980 - val_loss: 0.2160 - val_accuracy: 0.7630\n",
            "Epoch 122/150\n",
            "7508/7508 [==============================] - 2s 329us/step - loss: 0.0019 - accuracy: 0.9981 - val_loss: 0.2162 - val_accuracy: 0.7625\n",
            "Epoch 123/150\n",
            "7508/7508 [==============================] - 2s 328us/step - loss: 0.0024 - accuracy: 0.9972 - val_loss: 0.2163 - val_accuracy: 0.7652\n",
            "Epoch 124/150\n",
            "7508/7508 [==============================] - 2s 327us/step - loss: 0.0019 - accuracy: 0.9983 - val_loss: 0.2164 - val_accuracy: 0.7641\n",
            "Epoch 125/150\n",
            "7508/7508 [==============================] - 2s 333us/step - loss: 0.0020 - accuracy: 0.9981 - val_loss: 0.2158 - val_accuracy: 0.7646\n",
            "Epoch 126/150\n",
            "7508/7508 [==============================] - 3s 333us/step - loss: 0.0025 - accuracy: 0.9973 - val_loss: 0.2154 - val_accuracy: 0.7657\n",
            "Epoch 127/150\n",
            "7508/7508 [==============================] - 2s 333us/step - loss: 0.0023 - accuracy: 0.9977 - val_loss: 0.2198 - val_accuracy: 0.7604\n",
            "Epoch 128/150\n",
            "7508/7508 [==============================] - 3s 333us/step - loss: 0.0018 - accuracy: 0.9984 - val_loss: 0.2173 - val_accuracy: 0.7630\n",
            "Epoch 129/150\n",
            "7508/7508 [==============================] - 2s 331us/step - loss: 0.0019 - accuracy: 0.9980 - val_loss: 0.2199 - val_accuracy: 0.7604\n",
            "Epoch 130/150\n",
            "7508/7508 [==============================] - 3s 335us/step - loss: 0.0018 - accuracy: 0.9983 - val_loss: 0.2213 - val_accuracy: 0.7572\n",
            "Epoch 131/150\n",
            "7508/7508 [==============================] - 3s 335us/step - loss: 0.0019 - accuracy: 0.9983 - val_loss: 0.2199 - val_accuracy: 0.7583\n",
            "Epoch 132/150\n",
            "7508/7508 [==============================] - 3s 437us/step - loss: 0.0021 - accuracy: 0.9980 - val_loss: 0.2204 - val_accuracy: 0.7588\n",
            "Epoch 133/150\n",
            "7508/7508 [==============================] - 3s 341us/step - loss: 0.0020 - accuracy: 0.9980 - val_loss: 0.2208 - val_accuracy: 0.7593\n",
            "Epoch 134/150\n",
            "7508/7508 [==============================] - 3s 343us/step - loss: 0.0021 - accuracy: 0.9979 - val_loss: 0.2204 - val_accuracy: 0.7593\n",
            "Epoch 135/150\n",
            "7508/7508 [==============================] - 3s 340us/step - loss: 0.0020 - accuracy: 0.9977 - val_loss: 0.2197 - val_accuracy: 0.7625\n",
            "Epoch 136/150\n",
            "7508/7508 [==============================] - 3s 336us/step - loss: 0.0019 - accuracy: 0.9980 - val_loss: 0.2203 - val_accuracy: 0.7614\n",
            "Epoch 137/150\n",
            "7508/7508 [==============================] - 3s 334us/step - loss: 0.0019 - accuracy: 0.9981 - val_loss: 0.2199 - val_accuracy: 0.7604\n",
            "Epoch 138/150\n",
            "7508/7508 [==============================] - 3s 335us/step - loss: 0.0021 - accuracy: 0.9979 - val_loss: 0.2201 - val_accuracy: 0.7604\n",
            "Epoch 139/150\n",
            "7508/7508 [==============================] - 3s 335us/step - loss: 0.0018 - accuracy: 0.9983 - val_loss: 0.2191 - val_accuracy: 0.7614\n",
            "Epoch 140/150\n",
            "7508/7508 [==============================] - 3s 336us/step - loss: 0.0021 - accuracy: 0.9979 - val_loss: 0.2202 - val_accuracy: 0.7614\n",
            "Epoch 141/150\n",
            "7508/7508 [==============================] - 3s 334us/step - loss: 0.0022 - accuracy: 0.9979 - val_loss: 0.2171 - val_accuracy: 0.7657\n",
            "Epoch 142/150\n",
            "7508/7508 [==============================] - 3s 335us/step - loss: 0.0020 - accuracy: 0.9980 - val_loss: 0.2168 - val_accuracy: 0.7646\n",
            "Epoch 143/150\n",
            "7508/7508 [==============================] - 3s 335us/step - loss: 0.0020 - accuracy: 0.9977 - val_loss: 0.2172 - val_accuracy: 0.7636\n",
            "Epoch 144/150\n",
            "7508/7508 [==============================] - 3s 333us/step - loss: 0.0020 - accuracy: 0.9980 - val_loss: 0.2178 - val_accuracy: 0.7641\n",
            "Epoch 145/150\n",
            "7508/7508 [==============================] - 2s 333us/step - loss: 0.0017 - accuracy: 0.9984 - val_loss: 0.2199 - val_accuracy: 0.7636\n",
            "Epoch 146/150\n",
            "7508/7508 [==============================] - 3s 338us/step - loss: 0.0022 - accuracy: 0.9979 - val_loss: 0.2172 - val_accuracy: 0.7652\n",
            "Epoch 147/150\n",
            "7508/7508 [==============================] - 3s 441us/step - loss: 0.0019 - accuracy: 0.9983 - val_loss: 0.2171 - val_accuracy: 0.7662\n",
            "Epoch 148/150\n",
            "7508/7508 [==============================] - 3s 345us/step - loss: 0.0017 - accuracy: 0.9980 - val_loss: 0.2188 - val_accuracy: 0.7625\n",
            "Epoch 149/150\n",
            "7508/7508 [==============================] - 3s 344us/step - loss: 0.0021 - accuracy: 0.9976 - val_loss: 0.2184 - val_accuracy: 0.7657\n",
            "Epoch 150/150\n",
            "7508/7508 [==============================] - 3s 343us/step - loss: 0.0016 - accuracy: 0.9985 - val_loss: 0.2183 - val_accuracy: 0.7641\n"
          ],
          "name": "stdout"
        },
        {
          "output_type": "execute_result",
          "data": {
            "text/plain": [
              "<keras.callbacks.callbacks.History at 0x7f325ed83d68>"
            ]
          },
          "metadata": {
            "tags": []
          },
          "execution_count": 56
        }
      ]
    },
    {
      "cell_type": "code",
      "metadata": {
        "id": "oilv3tgTJsO9",
        "colab_type": "code",
        "colab": {}
      },
      "source": [
        "model.save(\"model.pt\")"
      ],
      "execution_count": null,
      "outputs": []
    },
    {
      "cell_type": "code",
      "metadata": {
        "id": "ScfvQdhLw4fh",
        "colab_type": "code",
        "colab": {}
      },
      "source": [
        ""
      ],
      "execution_count": null,
      "outputs": []
    }
  ]
}